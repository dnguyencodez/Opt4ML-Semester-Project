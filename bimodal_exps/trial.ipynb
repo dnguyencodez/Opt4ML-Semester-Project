{
 "cells": [
  {
   "cell_type": "code",
   "execution_count": 14,
   "metadata": {},
   "outputs": [],
   "source": [
    "import numpy as np\n",
    "import torch\n",
    "import torch.nn.functional as F"
   ]
  },
  {
   "cell_type": "code",
   "execution_count": 28,
   "metadata": {},
   "outputs": [
    {
     "name": "stdout",
     "output_type": "stream",
     "text": [
      "torch.Size([10, 2])\n",
      "torch.Size([10, 1])\n",
      "tensor(-17.5499, dtype=torch.float64)\n",
      "tensor(19.7593, dtype=torch.float64)\n",
      "tensor(19.7593, dtype=torch.float64)\n"
     ]
    }
   ],
   "source": [
    "img_features = np.random.randn(10,256)\n",
    "txt_features = np.random.randn(10,256)\n",
    "img_centroids = np.random.randn(2,256)\n",
    "\n",
    "sim_img = torch.from_numpy(img_features @ img_centroids.T)\n",
    "self_sim_img = torch.from_numpy(np.sum(img_features * txt_features,axis=1,keepdims=True))\n",
    "\n",
    "print(sim_img.shape)\n",
    "print(self_sim_img.shape)\n",
    "# print(sim_img)\n",
    "\n",
    "loss1 = torch.mean(-1*torch.log(torch.exp(sim_img - self_sim_img).sum(axis=1,keepdims=True)))\n",
    "\n",
    "\n",
    "sim_img2 = torch.from_numpy(np.concatenate([sim_img,self_sim_img],axis=1))\n",
    "class_probs = np.zeros_like(sim_img2)\n",
    "class_probs[:,-1]=1\n",
    "class_probs = torch.from_numpy(class_probs)\n",
    "\n",
    "labels = torch.ones(sim_img2.shape[0],dtype=torch.int64)*sim_img2.shape[1]-1\n",
    "\n",
    "loss2 = F.cross_entropy(sim_img2, class_probs)\n",
    "loss3 = F.cross_entropy(sim_img2, labels)\n",
    "\n",
    "print(loss1)\n",
    "print(loss2)\n",
    "print(loss3)"
   ]
  },
  {
   "cell_type": "code",
   "execution_count": 30,
   "metadata": {},
   "outputs": [
    {
     "name": "stdout",
     "output_type": "stream",
     "text": [
      "tensor([[1., 1., 0.],\n",
      "        [1., 1., 0.],\n",
      "        [1., 1., 0.],\n",
      "        [1., 1., 0.],\n",
      "        [1., 1., 0.],\n",
      "        [1., 1., 0.],\n",
      "        [1., 1., 0.],\n",
      "        [1., 1., 0.],\n",
      "        [1., 1., 0.],\n",
      "        [1., 1., 0.]])\n"
     ]
    }
   ],
   "source": [
    "mask_neg = torch.ones((10,3))\n",
    "mask_neg[:,-1] = 0\n",
    "print(mask_neg)"
   ]
  },
  {
   "cell_type": "code",
   "execution_count": 31,
   "metadata": {},
   "outputs": [
    {
     "data": {
      "text/plain": [
       "tensor([[0., 1., 1., 1., 1., 1., 1., 1., 1., 1.],\n",
       "        [1., 0., 1., 1., 1., 1., 1., 1., 1., 1.],\n",
       "        [1., 1., 0., 1., 1., 1., 1., 1., 1., 1.],\n",
       "        [1., 1., 1., 0., 1., 1., 1., 1., 1., 1.],\n",
       "        [1., 1., 1., 1., 0., 1., 1., 1., 1., 1.],\n",
       "        [1., 1., 1., 1., 1., 0., 1., 1., 1., 1.],\n",
       "        [1., 1., 1., 1., 1., 1., 0., 1., 1., 1.],\n",
       "        [1., 1., 1., 1., 1., 1., 1., 0., 1., 1.],\n",
       "        [1., 1., 1., 1., 1., 1., 1., 1., 0., 1.],\n",
       "        [1., 1., 1., 1., 1., 1., 1., 1., 1., 0.]])"
      ]
     },
     "execution_count": 31,
     "metadata": {},
     "output_type": "execute_result"
    }
   ],
   "source": [
    "1-torch.eye(10)"
   ]
  },
  {
   "cell_type": "code",
   "execution_count": 7,
   "metadata": {},
   "outputs": [
    {
     "data": {
      "text/plain": [
       "array([247.63140518, 260.89759413, 271.71672185, 281.01691447,\n",
       "       262.26222091, 257.57701624, 249.95972223, 243.79764167,\n",
       "       263.63449606, 255.61284565])"
      ]
     },
     "execution_count": 7,
     "metadata": {},
     "output_type": "execute_result"
    }
   ],
   "source": []
  },
  {
   "cell_type": "code",
   "execution_count": null,
   "metadata": {},
   "outputs": [],
   "source": []
  }
 ],
 "metadata": {
  "kernelspec": {
   "display_name": "Opt4ML_env",
   "language": "python",
   "name": "python3"
  },
  "language_info": {
   "codemirror_mode": {
    "name": "ipython",
    "version": 3
   },
   "file_extension": ".py",
   "mimetype": "text/x-python",
   "name": "python",
   "nbconvert_exporter": "python",
   "pygments_lexer": "ipython3",
   "version": "3.11.5"
  }
 },
 "nbformat": 4,
 "nbformat_minor": 2
}
